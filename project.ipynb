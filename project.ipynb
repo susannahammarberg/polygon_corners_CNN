{
 "cells": [
  {
   "cell_type": "markdown",
   "id": "5b2798c6-6974-471f-801d-2ba42d942b0c",
   "metadata": {},
   "source": [
    "<h1 style=\"font-size:40px;\"><center>Counting corners in polygons with a<br> Convolutional Neural Network\n",
    "</center></h1>"
   ]
  },
  {
   "cell_type": "code",
   "execution_count": null,
   "id": "cbc8e156-f8d4-415b-8e8a-d8786c0b7e6a",
   "metadata": {},
   "outputs": [],
   "source": []
  }
 ],
 "metadata": {
  "kernelspec": {
   "display_name": "Python 3 (ipykernel)",
   "language": "python",
   "name": "python3"
  },
  "language_info": {
   "codemirror_mode": {
    "name": "ipython",
    "version": 3
   },
   "file_extension": ".py",
   "mimetype": "text/x-python",
   "name": "python",
   "nbconvert_exporter": "python",
   "pygments_lexer": "ipython3",
   "version": "3.10.13"
  }
 },
 "nbformat": 4,
 "nbformat_minor": 5
}
